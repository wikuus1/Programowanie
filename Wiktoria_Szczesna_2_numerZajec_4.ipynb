{
  "nbformat": 4,
  "nbformat_minor": 0,
  "metadata": {
    "colab": {
      "provenance": []
    },
    "kernelspec": {
      "name": "python3",
      "display_name": "Python 3"
    },
    "language_info": {
      "name": "python"
    }
  },
  "cells": [
    {
      "cell_type": "code",
      "execution_count": 7,
      "metadata": {
        "colab": {
          "base_uri": "https://localhost:8080/"
        },
        "id": "deaP3tM4TWz4",
        "outputId": "3da2ef78-5352-4f11-f459-708c93b76937"
      },
      "outputs": [
        {
          "output_type": "stream",
          "name": "stdout",
          "text": [
            "Podaj liczbę rzędów: 9\n",
            "1\n",
            "12\n",
            "123\n",
            "1234\n",
            "12345\n",
            "123456\n",
            "1234567\n",
            "12345678\n"
          ]
        }
      ],
      "source": [
        "#Zadanie 1\n",
        "rows = int(input(\"Podaj liczbę rzędów: \"))  \n",
        "for i in range(1, rows):  \n",
        "    for j in range(1, i + 1):  \n",
        "        print(j, end=\"\")  \n",
        "    print(\"\")  "
      ]
    },
    {
      "cell_type": "code",
      "source": [
        "#Zadanie 2\n",
        "row_counter = 5\n",
        "for i in range(0, row_counter):   \n",
        "    for j in range(0, i):  \n",
        "        print(\"*\", end=\"\")   \n",
        "    print(\"\")\n",
        "for i in range(row_counter + 1, 0, -1):  \n",
        "    for j in range(0, i - 1):  \n",
        "        print(\"*\", end=\"\")  \n",
        "    print(\"\")  "
      ],
      "metadata": {
        "colab": {
          "base_uri": "https://localhost:8080/"
        },
        "id": "RsSU7dNFUUa5",
        "outputId": "39f69aa5-fc64-4840-b9ce-f0a7a4a7b973"
      },
      "execution_count": 6,
      "outputs": [
        {
          "output_type": "stream",
          "name": "stdout",
          "text": [
            "\n",
            "*\n",
            "**\n",
            "***\n",
            "****\n",
            "*****\n",
            "****\n",
            "***\n",
            "**\n",
            "*\n",
            "\n"
          ]
        }
      ]
    },
    {
      "cell_type": "code",
      "source": [
        "#Zadanie 3a\n",
        "lista = [6, 2, 3, 7, 1, 12, 56, 99]\n",
        "strings = []\n",
        "for n in lista:\n",
        "  if n > 10:\n",
        "    strings.append(str(n))\n",
        "print(strings)"
      ],
      "metadata": {
        "colab": {
          "base_uri": "https://localhost:8080/"
        },
        "id": "upChegs4Xnwy",
        "outputId": "57b45c5e-89ea-49d5-f7c4-27a24eb76618"
      },
      "execution_count": 4,
      "outputs": [
        {
          "output_type": "stream",
          "name": "stdout",
          "text": [
            "['12', '56', '99']\n"
          ]
        }
      ]
    },
    {
      "cell_type": "code",
      "source": [
        "#Zadanie 3b\n",
        "lista = [6, 2, 3, 7, 1, 12, 56, 99]\n",
        "print(min(lista))"
      ],
      "metadata": {
        "colab": {
          "base_uri": "https://localhost:8080/"
        },
        "id": "k_xlq4n5n2H6",
        "outputId": "208be017-6552-4253-98e3-e8ecf498f026"
      },
      "execution_count": 5,
      "outputs": [
        {
          "output_type": "stream",
          "name": "stdout",
          "text": [
            "1\n"
          ]
        }
      ]
    }
  ]
}